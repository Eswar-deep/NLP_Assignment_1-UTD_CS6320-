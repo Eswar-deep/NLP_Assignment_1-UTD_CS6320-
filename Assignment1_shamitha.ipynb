{
  "cells": [
    {
      "cell_type": "code",
      "execution_count": 11,
      "metadata": {},
      "outputs": [],
      "source": [
        "import re\n",
        "import nltk\n",
        "from nltk.corpus import stopwords\n",
        "from nltk.tokenize import word_tokenize\n",
        "from nltk.stem import WordNetLemmatizer\n",
        "from nltk import pos_tag\n",
        "from nltk.corpus import wordnet\n",
        "import math"
      ]
    },
    {
      "cell_type": "code",
      "execution_count": 12,
      "metadata": {},
      "outputs": [
        {
          "name": "stderr",
          "output_type": "stream",
          "text": [
            "[nltk_data] Downloading package stopwords to\n",
            "[nltk_data]     /Users/shamitha/nltk_data...\n",
            "[nltk_data]   Package stopwords is already up-to-date!\n",
            "[nltk_data] Downloading package punkt to /Users/shamitha/nltk_data...\n",
            "[nltk_data]   Package punkt is already up-to-date!\n",
            "[nltk_data] Downloading package wordnet to\n",
            "[nltk_data]     /Users/shamitha/nltk_data...\n",
            "[nltk_data]   Package wordnet is already up-to-date!\n",
            "[nltk_data] Downloading package omw-1.4 to\n",
            "[nltk_data]     /Users/shamitha/nltk_data...\n",
            "[nltk_data]   Package omw-1.4 is already up-to-date!\n",
            "[nltk_data] Downloading package averaged_perceptron_tagger_eng to\n",
            "[nltk_data]     /Users/shamitha/nltk_data...\n",
            "[nltk_data]   Package averaged_perceptron_tagger_eng is already up-to-\n",
            "[nltk_data]       date!\n"
          ]
        }
      ],
      "source": [
        "# Download NLTK resources (run once)\n",
        "nltk.download('stopwords')\n",
        "nltk.download('punkt')\n",
        "nltk.download('wordnet')\n",
        "nltk.download('omw-1.4')\n",
        "nltk.download('averaged_perceptron_tagger_eng')\n",
        "stop_words = set(stopwords.words('english'))\n",
        "lemmatizer = WordNetLemmatizer()"
      ]
    },
    {
      "cell_type": "code",
      "execution_count": 13,
      "metadata": {},
      "outputs": [],
      "source": [
        "def get_wordnet_pos(word, pos):\n",
        "    \"\"\"Map POS tag to WordNet POS tag for lemmatization.\"\"\"\n",
        "    tag = pos[0].upper()\n",
        "    tag_dict = {'J': wordnet.ADJ, 'N': wordnet.NOUN, 'V': wordnet.VERB, 'R': wordnet.ADV}\n",
        "    return tag_dict.get(tag, wordnet.NOUN)"
      ]
    },
    {
      "cell_type": "code",
      "execution_count": 14,
      "metadata": {},
      "outputs": [],
      "source": [
        "def preprocess_text(text):\n",
        "    \"\"\"\n",
        "    Preprocess the input text by:\n",
        "    1. Lowercasing\n",
        "    2. Tokenization\n",
        "    3. Removing stopwords\n",
        "    4. Removing punctuation (non-alphabetic tokens)\n",
        "    5. Lemmatization with POS tagging\n",
        "    \"\"\"\n",
        "    # Lowercase\n",
        "    text = text.lower()\n",
        "    \n",
        "    # Tokenize\n",
        "    tokens = word_tokenize(text)\n",
        "    \n",
        "    # Remove stopwords + punctuation + non-alphabetic\n",
        "    tokens = [word for word in tokens if word.isalpha() and word not in stop_words]\n",
        "    \n",
        "    # POS tagging and lemmatization\n",
        "    pos_tags = pos_tag(tokens)\n",
        "    tokens = [lemmatizer.lemmatize(word, get_wordnet_pos(word, pos)) for word, pos in pos_tags]\n",
        "    \n",
        "    return tokens"
      ]
    },
    {
      "cell_type": "code",
      "execution_count": 15,
      "metadata": {},
      "outputs": [],
      "source": [
        "# Preprocessing for training set\n",
        "training = 'train.txt'\n",
        "tokens = []\n",
        "\n",
        "with open(training, 'r', encoding='utf-8') as t:\n",
        "    for line in t:\n",
        "        # Preprocess each line\n",
        "        processed_tokens = preprocess_text(line.strip())\n",
        "        # Add start and end tokens\n",
        "        tokens_per_line = ['<s>'] + processed_tokens + ['</s>']\n",
        "        tokens.append(tokens_per_line)"
      ]
    },
    {
      "cell_type": "code",
      "execution_count": 16,
      "metadata": {},
      "outputs": [],
      "source": [
        "# Preprocessing for validation set\n",
        "validation = 'val.txt'\n",
        "validation_tokens = []\n",
        "\n",
        "with open(validation, 'r', encoding='utf-8') as v:\n",
        "    for line in v:\n",
        "        # Preprocess each line\n",
        "        processed_tokens = preprocess_text(line.strip())\n",
        "        # Add start and end tokens\n",
        "        tokens_per_line = ['<s>'] + processed_tokens + ['</s>']\n",
        "        validation_tokens.append(tokens_per_line)"
      ]
    }
  ],
  "metadata": {
    "colab": {
      "provenance": []
    },
    "kernelspec": {
      "display_name": "Python 3",
      "name": "python3"
    },
    "language_info": {
      "codemirror_mode": {
        "name": "ipython",
        "version": 3
      },
      "file_extension": ".py",
      "mimetype": "text/x-python",
      "name": "python",
      "nbconvert_exporter": "python",
      "pygments_lexer": "ipython3",
      "version": "3.9.6"
    }
  },
  "nbformat": 4,
  "nbformat_minor": 0
}
